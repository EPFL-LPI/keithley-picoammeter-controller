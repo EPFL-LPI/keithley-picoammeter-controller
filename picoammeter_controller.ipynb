{
 "cells": [
  {
   "cell_type": "markdown",
   "metadata": {},
   "source": [
    "# Picoammeter Controller\n",
    "## For use with a Keithley 6485 / 6487\n",
    "Keithley provides the ExceLINK Excel Add In to interact with the ammeter, but it is not user firendly. Thus, this implementation is designed to have a better UX.\n",
    "\n",
    "**Note** Many instrument operations for the instrument depend on the line frequency. This defaults to 50 Hz."
   ]
  },
  {
   "cell_type": "markdown",
   "metadata": {},
   "source": [
    "## API\n",
    "### SCPI Commands\n",
    "Generic SCPI commands can be executed by transforming the SCPI code in to attributes iva the hierarchy relationship, then calling it. Instrument properties can be queried by passing no arguments to the call. Commands with no arguments are run by passing an empty string to the call.\n",
    "\n",
    "#### Examples\n",
    "`inst = Ammeter()`\n",
    "\n",
    "**Turning on zero check:** `SYST:ZCH ON` --> `inst.syst.zch( 'ON' )`\n",
    "\n",
    "**Aquiring the current range:** `CURR:RANG?` --> `inst.curr.rang()`\n",
    "\n",
    "**Acquiring a zero check value:** `SYST:ZCOR:ACQ` --> `inst.syst.zcor.acq( '' )`\n",
    "\n",
    "### Methods\n",
    "**Ammeter(port, timeout, line_freq)** Creates an instance of an instrument\n",
    "\n",
    "**connect()** Connects the program to the instrument\n",
    "\n",
    "**disconnect()** Disconnects the instrument from the program, closing the port\n",
    "\n",
    "**write( msg )** Sends **msg** to the instrument \n",
    "\n",
    "**read()** Gets the most recent response from the instrument\n",
    "\n",
    "**query( msg )** Sends **msg** to the instrument and returns its response\n",
    "\n",
    "**reset()** Sets the instruemnt to its default state\n",
    "\n",
    "**init()** Initializes the instrument for a measurement\n",
    "\n",
    "**zero()** Zero corrects the instrument, and set it to auto current range\n",
    "\n",
    "**rate( cycles )** Sets the integration time relative to power line cycles\n",
    "\n",
    "**filter( type, state )** Sets the filter type to use\n",
    "\n",
    "### Properties\n",
    "**line_freq** The power line frequency the instrument is connected to \n",
    "\n",
    "**port** The communication port\n",
    "\n",
    "**rid** The resource id associated with the instrument [Read Only]\n",
    "\n",
    "**timeout** The communication timeout of the instrument [Read Only]\n",
    "\n",
    "**id** The manufacturer id of the instrument [Read Only]\n",
    "\n",
    "**value** The current value of the instrument [Read Only]\n",
    "\n",
    "**connected** Whether the instrument is connected or not [Read Only]"
   ]
  },
  {
   "cell_type": "code",
   "execution_count": 1,
   "metadata": {},
   "outputs": [],
   "source": [
    "# standard imports\n",
    "import os\n",
    "import sys\n",
    "import serial\n",
    "import re\n",
    "from enum import Enum\n",
    "from aenum import MultiValueEnum\n",
    "\n",
    "import logging as log\n",
    "log.basicConfig( level = log.DEBUG )\n",
    "\n",
    "# SCPI imports\n",
    "import scpi_instrument as scpi\n",
    "import visa"
   ]
  },
  {
   "cell_type": "code",
   "execution_count": 16,
   "metadata": {},
   "outputs": [],
   "source": [
    "class Ammeter( scpi.SCPI_Instrument ):\n",
    "    \"\"\"\n",
    "    Represents the Keithley 6485 picoammeter\n",
    "    \n",
    "    Arbitrary SCPI commands can be performed\n",
    "    treating the hieracrchy of the command as attributes.\n",
    "    \n",
    "    To read an property:  inst.p1.p2.p3()\n",
    "    To call a function:   inst.p1.p2( 'value' )\n",
    "    To execute a command: inst.p1.p2.p3( '' )\n",
    "    \"\"\"\n",
    "    #--- inner classes ---\n",
    "    \n",
    "    class CurrentRange( MultiValueEnum ):\n",
    "        \"\"\"\n",
    "        Valid current ranges to use\n",
    "        \"\"\"\n",
    "        N2   = '2E-9', '2.100000E-09'\n",
    "        N20  = '2E-8', '2.100000E-08'\n",
    "        N200 = '2E-7', '2.100000E-07'\n",
    "        U2   = '2E-6', '2.100000E-06'\n",
    "        U20  = '2E-5', '2.100000E-05'\n",
    "        U200 = '2E-4', '2.100000E-04'\n",
    "        M2   = '2E-3', '2.100000E-03'\n",
    "        M20  = '2E-2', '2.100000E-02'\n",
    "        \n",
    "        \n",
    "    class Function( Enum ):\n",
    "        \"\"\"\n",
    "        Valid function states to use. Enclosed in quotes.\n",
    "        \"\"\"\n",
    "        CURRENT    = '\"CURR\"'\n",
    "        CURRENT_DC = '\"CURR:DC\"'\n",
    "        \n",
    "        \n",
    "    #--- methods ---\n",
    "    \n",
    "    def __init__( self, port = None, timeout = 10, line_freq = 50 ):\n",
    "        scpi.SCPI_Instrument.__init__( self, port, timeout, '\\r', '\\r', '@py' )\n",
    "        \n",
    "        #--- public instance variables ---\n",
    "        self.line_freq = line_freq # the power line frequency\n",
    "        \n",
    "        \n",
    "    #--- private methods ---\n",
    "    \n",
    "    \n",
    "    #--- public methods ---\n",
    "    def zero( self ):\n",
    "        \"\"\"\n",
    "        Zeroes the internal current of the meter.\n",
    "        Performs a Zero Check\n",
    "        \"\"\"\n",
    "        self.reset()\n",
    "        self.func( self.Function.CURRENT )\n",
    "        self.curr.range( self.CurrentRange.N2 )\n",
    "        self.init()\n",
    "        \n",
    "        self.syst.zcor.stat( ic.Property.OFF )\n",
    "        self.syst.zcor.aqc( '' )\n",
    "        \n",
    "        self.syst.zcor( ic.Property.ON )\n",
    "        self.curr.rang.auto( ic.Property.ON )\n",
    "        self.syst.zch( ic.Property.OFF )\n",
    "        \n",
    "        self.value\n",
    "        \n",
    "        \n",
    "    def rate( self, cycles ):\n",
    "        \"\"\"\n",
    "        Sets the integration time for the instrument\n",
    "        \n",
    "        :param cycles: The number of power line cycles to integrate over, \n",
    "            or a time string of the form <time> <units>,\n",
    "            where <units> is the 1 or 2 letter abbreviation\n",
    "            'ns', 'us', 'ms', 's'\n",
    "            e.g. 20 ms\n",
    "        \"\"\"\n",
    "        if isinstance( cycles, str ):\n",
    "            # integration time passed\n",
    "            pattern = re.compile( r'(\\d+)\\s*(\\w{2})' ) # matches <time> <unit>\n",
    "            matches = pattern.match( cycles.strip() )\n",
    "            \n",
    "            if matches is not None:\n",
    "                # matches found\n",
    "                time = float( matches.group( 1 ) )\n",
    "                unit = matches.group( 2 )\n",
    "                \n",
    "                if unit == 'ns':\n",
    "                    unit = 1e-9\n",
    "                    \n",
    "                elif unit == 'us':\n",
    "                    unit = 1e-6\n",
    "                    \n",
    "                elif unit == 'ms':\n",
    "                    unit = 1e-3\n",
    "                \n",
    "                elif unit == 's':\n",
    "                    unit = 1\n",
    "                    \n",
    "                else:\n",
    "                    # invalid time unit\n",
    "                    raise ValueError( 'Invalid time unit' )\n",
    "                \n",
    "                # calculate cycles from time\n",
    "                time *= unit # set time in seconds\n",
    "                cycles = time* self.line_freq\n",
    "                \n",
    "            else:\n",
    "                # invalid string\n",
    "                raise ValueError( 'Invalid time string' )\n",
    "                \n",
    "        # check cycles is in valid range (0.01 - line_freq PLCs)\n",
    "        if cycles < 0.01 or cycles > self.line_freq:\n",
    "            raise ValueError( 'Integration cycles out of range. Must be between 0.01 and {}'.format( self.line_freq ) )\n",
    "\n",
    "        return self.sens.curr.nplc( cycles )\n",
    "    \n",
    "        \n",
    "    def filter( self, ftype, state ):\n",
    "        \"\"\"\n",
    "        Sets the window size of each filter, and turns them on or off\n",
    "        \n",
    "        :param ftype: The filter type to set. \n",
    "            Valid values for \n",
    "                Median filter: 'median' or 'med'\n",
    "                Average filter: 'average' or 'avg'; can be modified by ':moving' or ':repeat'\n",
    "                    e.g. avg:moving, average:repeat\n",
    "        \n",
    "        :param state: An integer between 2 and 100 for average filter, \n",
    "            or 1 to 5 for medain filter,\n",
    "            to set the size and enable filtering.\n",
    "            To enable or disable, pass True or 'ON', and False or 'OFF', respectively.\n",
    "        \"\"\"\n",
    "        # set filter state\n",
    "        ftype = ftype.lower()\n",
    "        if ftype == 'median' or ftype == 'med':\n",
    "            # median filter\n",
    "            if isinstance( state, int ):\n",
    "                # validate size between 1 and 5\n",
    "                if isinstance( state, int ):\n",
    "                    if state < 1 or state > 5:\n",
    "                        raise ValueError( 'Invalid window size' )\n",
    "                        \n",
    "                # set window and enable\n",
    "                self.med.rank( state )\n",
    "                self.med( ic.Property.ON )\n",
    "                \n",
    "            elif state == True or state.lower() == 'on':\n",
    "                # enable filter\n",
    "                self.med( ic.Property.ON )\n",
    "            \n",
    "            elif state == False or state.lower() == 'off':\n",
    "                # disable filter\n",
    "                self.med( ic.Property.OFF )\n",
    "            \n",
    "            else:\n",
    "                # invalid state argument\n",
    "                raise ValueError( 'Invalid filter state' )\n",
    "            \n",
    "        else:\n",
    "            # parse ftype\n",
    "            pattern = re.compile( r'(\\w+)\\s*:\\s*(\\w+)' )\n",
    "            matches = pattern.match( ftype )\n",
    "            if matches is not None:\n",
    "                # modifier found, change window type\n",
    "                ftype = matches.group( 1 )\n",
    "                wtype = matches.group( 2 )\n",
    "            \n",
    "            else:\n",
    "                # modifier not found, leave window type\n",
    "                wtype = None\n",
    "            \n",
    "            if ftype == 'average' or ftype == 'avg':\n",
    "                # average fitler\n",
    "                if wtype is not None:\n",
    "                    # set window type\n",
    "                    if wtype == 'moving':\n",
    "                        self.aver.tcon( 'MOV' )\n",
    "                        \n",
    "                    elif wtype == 'repeat':\n",
    "                        self.aver.tcon( 'REP' )\n",
    "                        \n",
    "                    else:\n",
    "                        # invalid window type\n",
    "                        raise ValueError( 'invalid window type {}'.format( wtype ) )\n",
    "                \n",
    "                if isinstance( state, int ):\n",
    "                    # validate size between 2 and 100\n",
    "                    if isinstance( state, int ):\n",
    "                        if state < 2 or state > 100:\n",
    "                            raise ValueError( 'Invalid window size' )\n",
    "                    \n",
    "                    # set size, and enable\n",
    "                    self.aver.coun( state )\n",
    "                    self.aver( ic.Property.ON )\n",
    "                    \n",
    "                else:\n",
    "                    # enable or disable filter\n",
    "                    if state == True or state.lower() == 'on':\n",
    "                        self.aver( ic.Property.ON )\n",
    "                    \n",
    "                    elif state == False or state.lower() == 'off':\n",
    "                        self.aver( ic.Property.OFF )\n",
    "                        \n",
    "                    else:\n",
    "                        # invalid filter\n",
    "                        raise ValueError( 'Invalid filter type' )\n",
    "                        \n",
    "            else:\n",
    "                # invalid filter\n",
    "                raise ValueError( 'Invalid filter type \"{}\"'.format( ftype ) )\n",
    "        \n",
    "        \n",
    "        "
   ]
  },
  {
   "cell_type": "markdown",
   "metadata": {},
   "source": [
    "# CLI"
   ]
  },
  {
   "cell_type": "code",
   "execution_count": 1,
   "metadata": {},
   "outputs": [],
   "source": [
    "if __name__ == '__main__':\n",
    "    import getopt\n",
    "    \n",
    "    #--- helper functions ---\n",
    "    \n",
    "    def print_help():\n",
    "        print( \"\"\"\n",
    "Keithley Picoammeter Controller CLI\n",
    "\n",
    "Use:\n",
    "python picoammeter_controller.py [port=<COM>] <function> [arguments]\n",
    "<COM> is the port to connect to [Default: COM14]\n",
    "<function> is the ammeter command to run\n",
    "[arguments] is a space separated list of the arguments the function takes\n",
    "\n",
    "API:\n",
    "+ write()\n",
    "+ query()\n",
    "\n",
    "        \"\"\")\n",
    "    "
   ]
  },
  {
   "cell_type": "markdown",
   "metadata": {},
   "source": [
    "# Work"
   ]
  },
  {
   "cell_type": "code",
   "execution_count": 17,
   "metadata": {
    "scrolled": true
   },
   "outputs": [
    {
     "name": "stderr",
     "output_type": "stream",
     "text": [
      "DEBUG:pyvisa:Reusing ResourceManager with session 6734193\n"
     ]
    }
   ],
   "source": [
    "# am = Ammeter( 'COM14', timeout = 15 )"
   ]
  },
  {
   "cell_type": "code",
   "execution_count": 21,
   "metadata": {},
   "outputs": [
    {
     "name": "stderr",
     "output_type": "stream",
     "text": [
      "DEBUG:pyvisa:ASRLCOM14::INSTR - closing\n"
     ]
    }
   ],
   "source": [
    "# del am"
   ]
  },
  {
   "cell_type": "code",
   "execution_count": 18,
   "metadata": {},
   "outputs": [
    {
     "name": "stderr",
     "output_type": "stream",
     "text": [
      "DEBUG:pyvisa:ASRLCOM14::INSTR - opening ...\n",
      "DEBUG:pyvisa:ASRLCOM14::INSTR - is open with session 7853453\n",
      "DEBUG:pyvisa:Serial.write b'*IDN?\\r'\n",
      "DEBUG:pyvisa:ASRLCOM14::INSTR - reading 20480 bytes (last status <StatusCode.success_max_count_read: 1073676294>)\n"
     ]
    }
   ],
   "source": [
    "# am.connect()"
   ]
  },
  {
   "cell_type": "code",
   "execution_count": 19,
   "metadata": {
    "scrolled": true
   },
   "outputs": [
    {
     "name": "stderr",
     "output_type": "stream",
     "text": [
      "DEBUG:pyvisa:Serial.write b'*IDN?\\r'\n",
      "DEBUG:pyvisa:ASRLCOM14::INSTR - reading 20480 bytes (last status <StatusCode.success_max_count_read: 1073676294>)\n"
     ]
    },
    {
     "data": {
      "text/plain": [
       "'KEITHLEY INSTRUMENTS INC.,MODEL 6485,4364715,C01   Jun 23 2010 12:22:00/A02  /J'"
      ]
     },
     "execution_count": 19,
     "metadata": {},
     "output_type": "execute_result"
    }
   ],
   "source": [
    "# am.id"
   ]
  },
  {
   "cell_type": "code",
   "execution_count": 20,
   "metadata": {},
   "outputs": [
    {
     "name": "stderr",
     "output_type": "stream",
     "text": [
      "DEBUG:pyvisa:Serial.write b'SYST:LOC \\r'\n",
      "DEBUG:pyvisa:ASRLCOM14::INSTR - closing\n",
      "DEBUG:pyvisa:ASRLCOM14::INSTR - is closed\n"
     ]
    }
   ],
   "source": [
    "# am.disconnect()"
   ]
  },
  {
   "cell_type": "code",
   "execution_count": 9,
   "metadata": {
    "scrolled": true
   },
   "outputs": [
    {
     "name": "stdout",
     "output_type": "stream",
     "text": [
      "-1.776357E-14,+0.000000E+00,-2.486900E-14,+1.005859E-01,-3.197442E-14,+2.021484E-01,-4.263256E-14,+3.027344E-01,-3.552714E-14,+4.033203E-01,-2.842171E-14,+5.039063E-01,-2.486900E-14,+6.044922E-01,+2.842171E-14,+7.060547E-01,+2.131628E-14,+8.066406E-01,+4.263256E-14,+9.072266E-01,-4.263256E-14,+1.007813E+00,-2.486900E-14,+1.108398E+00,+6.039613E-14,+1.209961E+00,+5.329071E-14,+1.310547E+00,+3.552714E-15,+1.411133E+00,+2.131628E-14,+1.511719E+00,+1.776357E-14,+1.612305E+00,+5.329071E-14,+1.713867E+00,+1.421085E-14,+1.814453E+00,+5.684342E-14,+1.915039E+00,-2.486900E-14,+2.015625E+00,+2.486900E-14,+2.116211E+00,+0.000000E+00,+2.217773E+00,-3.552714E-15,+2.318359E+00,+7.460699E-14,+2.418945E+00,-2.842171E-14,+2.519531E+00,+1.065814E-13,+2.620117E+00,+4.263256E-14,+2.721680E+00,+3.907985E-14,+2.822266E+00,+5.329071E-14,+2.922852E+00,+1.065814E-14,+3.023438E+00,+6.750156E-14,+3.124023E+00,+4.973799E-14,+3.225586E+00,+3.552714E-14,+3.326172E+00,+7.105427E-14,+3.426758E+00,-5.329071E-14,+3.527344E+00,+4.973799E-14,+3.627930E+00,-4.973799E-14,+3.729492E+00,+7.815970E-14,+3.830078E+00,+1.421085E-14,+3.930664E+00,-2.486900E-14,+4.031250E+00,+6.750156E-14,+4.131836E+00,+7.815970E-14,+4.233398E+00,+1.421085E-14,+4.333984E+00,+7.815970E-14,+4.434570E+00,+6.039613E-14,+4.535156E+00,-4.263256E-14,+4.635742E+00,+1.776357E-14,+4.737305E+00,+8.171241E-14,+4.837891E+00,-7.105427E-15,+4.938477E+00,+7.105427E-15,+5.039063E+00,+4.263256E-14,+5.139648E+00,+1.669775E-13,+5.241211E+00,-7.105427E-15,+5.341797E+00,+7.460699E-14,+5.442383E+00,+4.973799E-14,+5.542969E+00,+1.030287E-13,+5.643555E+00,-6.039613E-14,+5.745117E+00,+6.039613E-14,+5.845703E+00,+0.000000E+00,+5.946289E+00,-3.197442E-14,+6.046875E+00,+1.421085E-14,+6.147461E+00,+9.947598E-14,+6.249023E+00,+7.105427E-15,+6.349609E+00,-6.394885E-14,+6.450195E+00,+9.237056E-14,+6.550781E+00,+2.131628E-14,+6.651367E+00,+2.842171E-14,+6.752930E+00,-3.197442E-14,+6.853516E+00,+8.526513E-14,+6.954102E+00,+1.421085E-14,+7.054688E+00,+5.684342E-14,+7.155273E+00,+3.197442E-14,+7.256836E+00,+4.263256E-14,+7.357422E+00,+1.314504E-13,+7.458008E+00,+9.237056E-14,+7.558594E+00,+0.000000E+00,+7.659180E+00,+5.329071E-14,+7.760742E+00,+7.105427E-15,+7.861328E+00,-1.421085E-14,+7.961914E+00,+9.947598E-14,+8.062500E+00,+2.842171E-14,+8.163086E+00,+3.907985E-14,+8.264648E+00,+4.973799E-14,+8.365234E+00,+7.460699E-14,+8.465820E+00,+7.815970E-14,+8.566406E+00,+2.842171E-14,+8.666992E+00,-6.039613E-14,+8.768555E+00,+5.329071E-14,+8.869141E+00,+5.329071E-14,+8.969727E+00,+9.592327E-14,+9.070313E+00,-3.552714E-14,+9.170898E+00,+1.172396E-13,+9.272461E+00,-1.776357E-14,+9.373047E+00,+3.197442E-14,+9.473633E+00,+7.815970E-14,+9.574219E+00,+2.486900E-14,+9.674805E+00,+3.907985E-14,+9.776367E+00,+4.618528E-14,+9.876953E+00,+6.750156E-14,+9.977539E+00,+1.776357E-14,+1.007813E+01,+3.552714E-15,+1.017871E+01,+3.907985E-14,+1.028027E+01,+7.815970E-14,+1.038086E+01,-1.776357E-14,+1.048145E+01,+6.039613E-14,+1.058203E+01,+5.329071E-14,+1.068262E+01,+3.552714E-14,+1.078418E+01,+6.394885E-14,+1.088477E+01,+5.329071E-14,+1.098535E+01,+0.000000E+00,+1.108594E+01,+4.973799E-14,+1.118652E+01,+7.815970E-14,+1.128809E+01,+7.460699E-14,+1.138867E+01,+5.684342E-14,+1.148926E+01,-1.065814E-14,+1.158984E+01,+6.750156E-14,+1.169043E+01,+1.136868E-13,+1.179199E+01,+5.684342E-14,+1.189258E+01,+6.039613E-14,+1.199316E+01,+5.684342E-14,+1.209375E+01,+7.460699E-14,+1.219434E+01,+5.329071E-14,+1.229590E+01,+8.171241E-14,+1.239648E+01,+1.421085E-14,+1.249707E+01,+4.973799E-14,+1.259766E+01,+7.105427E-14,+1.269824E+01,+7.815970E-14,+1.279980E+01,+7.105427E-15,+1.290039E+01,+9.947598E-14,+1.300098E+01,-2.131628E-14,+1.310156E+01,+1.101341E-13,+1.320215E+01,-1.421085E-14,+1.330371E+01,-2.486900E-14,+1.340430E+01,+1.030287E-13,+1.350488E+01,+1.030287E-13,+1.360547E+01,+1.065814E-14,+1.370605E+01,-3.552714E-15,+1.380762E+01,+3.197442E-14,+1.390820E+01,+3.552714E-14,+1.400879E+01,+2.842171E-14,+1.410938E+01,+1.563194E-13,+1.420996E+01,+1.776357E-14,+1.431152E+01,+4.973799E-14,+1.441211E+01,+8.171241E-14,+1.451270E+01,+6.750156E-14,+1.461328E+01,-1.421085E-14,+1.471387E+01,+1.563194E-13,+1.481543E+01,+3.907985E-14,+1.491602E+01,+9.237056E-14,+1.501660E+01,+2.486900E-14,+1.511719E+01,+7.105427E-15,+1.521777E+01,+9.237056E-14,+1.531934E+01,+3.552714E-15,+1.541992E+01,+3.552714E-14,+1.552051E+01,+1.101341E-13,+1.562109E+01,+3.907985E-14,+1.572168E+01,+1.065814E-14,+1.582324E+01,+4.618528E-14,+1.592383E+01,+7.460699E-14,+1.602441E+01,+8.881784E-14,+1.612500E+01,+7.815970E-14,+1.622559E+01,-2.842171E-14,+1.632715E+01,+1.243450E-13,+1.642773E+01,+5.329071E-14,+1.652832E+01,+7.105427E-15,+1.662891E+01,+3.907985E-14,+1.672949E+01,+4.618528E-14,+1.683105E+01,+5.329071E-14,+1.693164E+01,+5.684342E-14,+1.703223E+01,+4.618528E-14,+1.713281E+01,+7.105427E-14,+1.723340E+01,+6.394885E-14,+1.733496E+01,+2.131628E-14,+1.743555E+01,+5.329071E-14,+1.753613E+01,+6.750156E-14,+1.763672E+01,+3.907985E-14,+1.773730E+01,+7.105427E-14,+1.783887E+01,+3.197442E-14,+1.793945E+01,+8.171241E-14,+1.804004E+01,+7.460699E-14,+1.814063E+01,-6.394885E-14,+1.824121E+01,+4.973799E-14,+1.834277E+01,+6.750156E-14,+1.844336E+01,+3.552714E-14,+1.854395E+01,+1.421085E-14,+1.864453E+01,+9.237056E-14,+1.874512E+01,-4.263256E-14,+1.884668E+01,+1.243450E-13,+1.894727E+01,+5.329071E-14,+1.904785E+01,+1.350031E-13,+1.914844E+01,+3.552714E-14,+1.924902E+01,-1.421085E-14,+1.935059E+01,+1.065814E-13,+1.945117E+01,-7.105427E-14,+1.955176E+01,+1.243450E-13,+1.965234E+01,-1.776357E-14,+1.975293E+01,+1.421085E-14,+1.985449E+01,+9.592327E-14,+1.995508E+01,-3.197442E-14,+2.005566E+01\n"
     ]
    }
   ],
   "source": [
    "# print( am.trace.data() )"
   ]
  },
  {
   "cell_type": "code",
   "execution_count": 30,
   "metadata": {},
   "outputs": [
    {
     "data": {
      "text/plain": [
       "'25.00'"
      ]
     },
     "execution_count": 30,
     "metadata": {},
     "output_type": "execute_result"
    }
   ],
   "source": [
    "# am.sens.curr.nplc()"
   ]
  },
  {
   "cell_type": "code",
   "execution_count": 59,
   "metadata": {},
   "outputs": [
    {
     "data": {
      "text/plain": [
       "'1'"
      ]
     },
     "execution_count": 59,
     "metadata": {},
     "output_type": "execute_result"
    }
   ],
   "source": [
    "# am.arm.coun()"
   ]
  },
  {
   "cell_type": "code",
   "execution_count": 27,
   "metadata": {},
   "outputs": [
    {
     "name": "stdout",
     "output_type": "stream",
     "text": [
      "+2.383221E-14,+0.000000E+00,+4.967396E-14,+1.133789E+00,+3.929656E-14,+1.441406E+00,+3.156438E-14,+1.749023E+00,+9.057380E-14,+2.056641E+00,+4.214526E-14,+2.364258E+00,+4.967396E-14,+2.670898E+00,+6.045831E-14,+2.978516E+00,+4.560439E-14,+3.286133E+00,+5.150527E-14,+3.593750E+00,+1.109224E-13,+3.901367E+00,+2.546003E-14,+4.208984E+00,+4.295917E-14,+4.516602E+00,+4.763918E-14,+4.824219E+00,+5.008092E-14,+5.131836E+00,+3.685483E-14,+5.438477E+00,+7.246355E-14,+5.746094E+00,+3.543048E-14,+6.053711E+00,+4.234873E-14,+6.361328E+00,+7.246355E-14,+6.668945E+00\n"
     ]
    }
   ],
   "source": [
    "# am.reset()\n",
    "# am.form.elem( 'time,read' )\n",
    "# am.trig.count( 20 )\n",
    "# am.trac.poin( 20 )\n",
    "# am.trac.feed( 'sens' )\n",
    "# am.trac.feed.cont( 'next' )\n",
    "# am.syst.zch( 'off' )\n",
    "# am.init()\n",
    "# print( am.trac.data() )"
   ]
  },
  {
   "cell_type": "code",
   "execution_count": 13,
   "metadata": {},
   "outputs": [
    {
     "data": {
      "text/plain": [
       "(13, <StatusCode.success: 0>)"
      ]
     },
     "execution_count": 13,
     "metadata": {},
     "output_type": "execute_result"
    }
   ],
   "source": [
    "# am.syst.zch( 'OFF' )"
   ]
  },
  {
   "cell_type": "code",
   "execution_count": 8,
   "metadata": {},
   "outputs": [
    {
     "data": {
      "text/plain": [
       "(14, <StatusCode.success: 0>)"
      ]
     },
     "execution_count": 8,
     "metadata": {},
     "output_type": "execute_result"
    }
   ],
   "source": [
    "# am.syst.zcor( 'OFF' )"
   ]
  },
  {
   "cell_type": "code",
   "execution_count": null,
   "metadata": {},
   "outputs": [],
   "source": []
  }
 ],
 "metadata": {
  "kernelspec": {
   "display_name": "Python 3",
   "language": "python",
   "name": "python3"
  },
  "language_info": {
   "codemirror_mode": {
    "name": "ipython",
    "version": 3
   },
   "file_extension": ".py",
   "mimetype": "text/x-python",
   "name": "python",
   "nbconvert_exporter": "python",
   "pygments_lexer": "ipython3",
   "version": "3.7.0"
  }
 },
 "nbformat": 4,
 "nbformat_minor": 2
}
